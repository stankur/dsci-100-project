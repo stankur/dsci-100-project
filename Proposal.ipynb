{
 "cells": [
  {
   "cell_type": "markdown",
   "id": "278699c7-0dfd-40a4-a6f4-4a9693d23595",
   "metadata": {},
   "source": [
    "# **Predicting Exam Performance by Various Factors**"
   ]
  },
  {
   "cell_type": "code",
   "execution_count": 1,
   "id": "c9edf276-5f84-4271-9386-8b460e0e4680",
   "metadata": {},
   "outputs": [
    {
     "name": "stderr",
     "output_type": "stream",
     "text": [
      "── \u001b[1mAttaching packages\u001b[22m ─────────────────────────────────────── tidyverse 1.3.1 ──\n",
      "\n",
      "\u001b[32m✔\u001b[39m \u001b[34mggplot2\u001b[39m 3.3.6     \u001b[32m✔\u001b[39m \u001b[34mpurrr  \u001b[39m 0.3.4\n",
      "\u001b[32m✔\u001b[39m \u001b[34mtibble \u001b[39m 3.1.7     \u001b[32m✔\u001b[39m \u001b[34mdplyr  \u001b[39m 1.0.9\n",
      "\u001b[32m✔\u001b[39m \u001b[34mtidyr  \u001b[39m 1.2.0     \u001b[32m✔\u001b[39m \u001b[34mstringr\u001b[39m 1.4.0\n",
      "\u001b[32m✔\u001b[39m \u001b[34mreadr  \u001b[39m 2.1.2     \u001b[32m✔\u001b[39m \u001b[34mforcats\u001b[39m 0.5.1\n",
      "\n",
      "── \u001b[1mConflicts\u001b[22m ────────────────────────────────────────── tidyverse_conflicts() ──\n",
      "\u001b[31m✖\u001b[39m \u001b[34mdplyr\u001b[39m::\u001b[32mfilter()\u001b[39m masks \u001b[34mstats\u001b[39m::filter()\n",
      "\u001b[31m✖\u001b[39m \u001b[34mdplyr\u001b[39m::\u001b[32mlag()\u001b[39m    masks \u001b[34mstats\u001b[39m::lag()\n",
      "\n",
      "── \u001b[1mAttaching packages\u001b[22m ────────────────────────────────────── tidymodels 1.0.0 ──\n",
      "\n",
      "\u001b[32m✔\u001b[39m \u001b[34mbroom       \u001b[39m 1.0.0     \u001b[32m✔\u001b[39m \u001b[34mrsample     \u001b[39m 1.0.0\n",
      "\u001b[32m✔\u001b[39m \u001b[34mdials       \u001b[39m 1.0.0     \u001b[32m✔\u001b[39m \u001b[34mtune        \u001b[39m 1.0.0\n",
      "\u001b[32m✔\u001b[39m \u001b[34minfer       \u001b[39m 1.0.2     \u001b[32m✔\u001b[39m \u001b[34mworkflows   \u001b[39m 1.0.0\n",
      "\u001b[32m✔\u001b[39m \u001b[34mmodeldata   \u001b[39m 1.0.0     \u001b[32m✔\u001b[39m \u001b[34mworkflowsets\u001b[39m 1.0.0\n",
      "\u001b[32m✔\u001b[39m \u001b[34mparsnip     \u001b[39m 1.0.0     \u001b[32m✔\u001b[39m \u001b[34myardstick   \u001b[39m 1.0.0\n",
      "\u001b[32m✔\u001b[39m \u001b[34mrecipes     \u001b[39m 1.0.1     \n",
      "\n",
      "── \u001b[1mConflicts\u001b[22m ───────────────────────────────────────── tidymodels_conflicts() ──\n",
      "\u001b[31m✖\u001b[39m \u001b[34mscales\u001b[39m::\u001b[32mdiscard()\u001b[39m masks \u001b[34mpurrr\u001b[39m::discard()\n",
      "\u001b[31m✖\u001b[39m \u001b[34mdplyr\u001b[39m::\u001b[32mfilter()\u001b[39m   masks \u001b[34mstats\u001b[39m::filter()\n",
      "\u001b[31m✖\u001b[39m \u001b[34mrecipes\u001b[39m::\u001b[32mfixed()\u001b[39m  masks \u001b[34mstringr\u001b[39m::fixed()\n",
      "\u001b[31m✖\u001b[39m \u001b[34mdplyr\u001b[39m::\u001b[32mlag()\u001b[39m      masks \u001b[34mstats\u001b[39m::lag()\n",
      "\u001b[31m✖\u001b[39m \u001b[34myardstick\u001b[39m::\u001b[32mspec()\u001b[39m masks \u001b[34mreadr\u001b[39m::spec()\n",
      "\u001b[31m✖\u001b[39m \u001b[34mrecipes\u001b[39m::\u001b[32mstep()\u001b[39m   masks \u001b[34mstats\u001b[39m::step()\n",
      "\u001b[34m•\u001b[39m Use \u001b[32mtidymodels_prefer()\u001b[39m to resolve common conflicts.\n",
      "\n"
     ]
    }
   ],
   "source": [
    "# libraries needed in this proposal\n",
    "\n",
    "library(repr)\n",
    "library(tidyverse)\n",
    "library(tidymodels)\n",
    "options(repr.matrix.max.rows = 6)"
   ]
  },
  {
   "cell_type": "markdown",
   "id": "ec1fffad-cfb8-4a6c-b8ad-169e431012a1",
   "metadata": {
    "jp-MarkdownHeadingCollapsed": true,
    "tags": []
   },
   "source": [
    "## **Introduction**\n",
    "\n",
    "#### **Relevant background information on the topic**\n",
    "\n",
    "The dataset is obtained in the study “The development of intuitive knowledge classifier and the modeling of domain dependent data” done by H. Tolga Kahraman et. al. (2013) on a web based learning system. The system tracks dynamic data which represent the student’s educational interactions such as visited pages and elapsed time in the concept/goal pages. This dynamic data is used to generate the variables to describe the students and are used to classify users' knowledge.\n",
    "\n",
    "#### **The Question we will try to answer with our project**\n",
    "\n",
    "Based on four factors, the degree of study time for material (STG), repetition number for material (SCG), study time for related objects like prerequisites (STR), and exam performance for related objects (LPR), the exam performance for material (PEG), predicting the knowledge level (UNS) and finding a factor that has the strongest relationship with PEG.\n",
    "\n",
    "#### **The dataset description that will be used to answer the question**\n",
    "\n",
    "We have two csv files, a training dataset and a testing dataset. The columns in this datasets are STG (the degree of study time for material, a quantitative variable), SCG (The degree of repetition number of user for goal object materials, a quantitative variable), STR (The degree of study time of user for related objects with goal object, a quantitative variable), LPR (The exam performance of user for related objects with goal object, a quantitative variable), PEG (the exam performance for material, a quantitative variable), and UNS (The knowledge level of user, a categorical variable). The training dataset has 258 rows excluding column names and the testing dataset has 145 rows excluding column names."
   ]
  },
  {
   "cell_type": "markdown",
   "id": "e2c4d064-f50e-4dfb-b21c-83ce8559052e",
   "metadata": {
    "tags": []
   },
   "source": [
    "## **Preliminary exploratory data analysis**"
   ]
  },
  {
   "cell_type": "markdown",
   "id": "6c1f59a4-954f-4f95-b35d-9de15310afcb",
   "metadata": {
    "tags": []
   },
   "source": [
    "#### **Reading data from the web**"
   ]
  },
  {
   "cell_type": "code",
   "execution_count": 2,
   "id": "75144581-dba9-4ff5-8d30-49464dcdccee",
   "metadata": {},
   "outputs": [
    {
     "name": "stderr",
     "output_type": "stream",
     "text": [
      "\u001b[1m\u001b[22mNew names:\n",
      "\u001b[36m•\u001b[39m `` -> `...7`\n",
      "\u001b[36m•\u001b[39m `` -> `...8`\n",
      "\u001b[1mRows: \u001b[22m\u001b[34m258\u001b[39m \u001b[1mColumns: \u001b[22m\u001b[34m9\u001b[39m\n",
      "\u001b[36m──\u001b[39m \u001b[1mColumn specification\u001b[22m \u001b[36m────────────────────────────────────────────────────────\u001b[39m\n",
      "\u001b[1mDelimiter:\u001b[22m \",\"\n",
      "\u001b[31mchr\u001b[39m (2): UNS, Attribute Information:\n",
      "\u001b[32mdbl\u001b[39m (5): STG, SCG, STR, LPR, PEG\n",
      "\u001b[33mlgl\u001b[39m (2): ...7, ...8\n",
      "\n",
      "\u001b[36mℹ\u001b[39m Use `spec()` to retrieve the full column specification for this data.\n",
      "\u001b[36mℹ\u001b[39m Specify the column types or set `show_col_types = FALSE` to quiet this message.\n"
     ]
    },
    {
     "data": {
      "text/html": [
       "<table class=\"dataframe\">\n",
       "<caption>A tibble: 258 × 6</caption>\n",
       "<thead>\n",
       "\t<tr><th scope=col>STG</th><th scope=col>SCG</th><th scope=col>STR</th><th scope=col>LPR</th><th scope=col>PEG</th><th scope=col>UNS</th></tr>\n",
       "\t<tr><th scope=col>&lt;dbl&gt;</th><th scope=col>&lt;dbl&gt;</th><th scope=col>&lt;dbl&gt;</th><th scope=col>&lt;dbl&gt;</th><th scope=col>&lt;dbl&gt;</th><th scope=col>&lt;chr&gt;</th></tr>\n",
       "</thead>\n",
       "<tbody>\n",
       "\t<tr><td>0.00</td><td>0.00</td><td>0.00</td><td>0.00</td><td>0.00</td><td>very_low</td></tr>\n",
       "\t<tr><td>0.08</td><td>0.08</td><td>0.10</td><td>0.24</td><td>0.90</td><td>High    </td></tr>\n",
       "\t<tr><td>0.06</td><td>0.06</td><td>0.05</td><td>0.25</td><td>0.33</td><td>Low     </td></tr>\n",
       "\t<tr><td>⋮</td><td>⋮</td><td>⋮</td><td>⋮</td><td>⋮</td><td>⋮</td></tr>\n",
       "\t<tr><td>0.54</td><td>0.82</td><td>0.71</td><td>0.29</td><td>0.77</td><td>High  </td></tr>\n",
       "\t<tr><td>0.50</td><td>0.75</td><td>0.81</td><td>0.61</td><td>0.26</td><td>Middle</td></tr>\n",
       "\t<tr><td>0.66</td><td>0.90</td><td>0.76</td><td>0.87</td><td>0.74</td><td>High  </td></tr>\n",
       "</tbody>\n",
       "</table>\n"
      ],
      "text/latex": [
       "A tibble: 258 × 6\n",
       "\\begin{tabular}{llllll}\n",
       " STG & SCG & STR & LPR & PEG & UNS\\\\\n",
       " <dbl> & <dbl> & <dbl> & <dbl> & <dbl> & <chr>\\\\\n",
       "\\hline\n",
       "\t 0.00 & 0.00 & 0.00 & 0.00 & 0.00 & very\\_low\\\\\n",
       "\t 0.08 & 0.08 & 0.10 & 0.24 & 0.90 & High    \\\\\n",
       "\t 0.06 & 0.06 & 0.05 & 0.25 & 0.33 & Low     \\\\\n",
       "\t ⋮ & ⋮ & ⋮ & ⋮ & ⋮ & ⋮\\\\\n",
       "\t 0.54 & 0.82 & 0.71 & 0.29 & 0.77 & High  \\\\\n",
       "\t 0.50 & 0.75 & 0.81 & 0.61 & 0.26 & Middle\\\\\n",
       "\t 0.66 & 0.90 & 0.76 & 0.87 & 0.74 & High  \\\\\n",
       "\\end{tabular}\n"
      ],
      "text/markdown": [
       "\n",
       "A tibble: 258 × 6\n",
       "\n",
       "| STG &lt;dbl&gt; | SCG &lt;dbl&gt; | STR &lt;dbl&gt; | LPR &lt;dbl&gt; | PEG &lt;dbl&gt; | UNS &lt;chr&gt; |\n",
       "|---|---|---|---|---|---|\n",
       "| 0.00 | 0.00 | 0.00 | 0.00 | 0.00 | very_low |\n",
       "| 0.08 | 0.08 | 0.10 | 0.24 | 0.90 | High     |\n",
       "| 0.06 | 0.06 | 0.05 | 0.25 | 0.33 | Low      |\n",
       "| ⋮ | ⋮ | ⋮ | ⋮ | ⋮ | ⋮ |\n",
       "| 0.54 | 0.82 | 0.71 | 0.29 | 0.77 | High   |\n",
       "| 0.50 | 0.75 | 0.81 | 0.61 | 0.26 | Middle |\n",
       "| 0.66 | 0.90 | 0.76 | 0.87 | 0.74 | High   |\n",
       "\n"
      ],
      "text/plain": [
       "    STG  SCG  STR  LPR  PEG  UNS     \n",
       "1   0.00 0.00 0.00 0.00 0.00 very_low\n",
       "2   0.08 0.08 0.10 0.24 0.90 High    \n",
       "3   0.06 0.06 0.05 0.25 0.33 Low     \n",
       "⋮   ⋮    ⋮    ⋮    ⋮    ⋮    ⋮       \n",
       "256 0.54 0.82 0.71 0.29 0.77 High    \n",
       "257 0.50 0.75 0.81 0.61 0.26 Middle  \n",
       "258 0.66 0.90 0.76 0.87 0.74 High    "
      ]
     },
     "metadata": {},
     "output_type": "display_data"
    }
   ],
   "source": [
    "# download data from our group's remote repository\n",
    "\n",
    "url <- \"https://raw.githubusercontent.com/stankur/dsci-100-project/main/Data_User_Modeling_Dataset_Hamdi%20Tolga%20KAHRAMAN.csv\"\n",
    "\n",
    "data <- read_csv(url)\n",
    "\n",
    "data <- data |> \n",
    "        select(STG:UNS)\n",
    "\n",
    "data"
   ]
  },
  {
   "cell_type": "markdown",
   "id": "47272311-7e06-4adc-a8f2-23ed34ff50d6",
   "metadata": {},
   "source": [
    "#### **Summarization of the data (exploratory data analysis)**"
   ]
  },
  {
   "cell_type": "code",
   "execution_count": 19,
   "id": "3c54c29a-bb46-4e47-9a1b-ecda0ba4818b",
   "metadata": {},
   "outputs": [
    {
     "name": "stderr",
     "output_type": "stream",
     "text": [
      "Warning message in gsub(vec_paste0(\"^\", names_prefix), \"\", cols):\n",
      "“argument 'pattern' has length > 1 and only the first element will be used”\n"
     ]
    }
   ],
   "source": [
    "summarization <- data |>\n",
    "                mutate(STG_mean = mean(STG), ) |>\n",
    "                select(STG_mean) |>\n",
    "                slice(1)\n",
    "\n",
    "#summarization\n",
    "\n",
    "\n",
    "# mean\n",
    "mean_data <- data |>\n",
    "                mutate(STG = mean(STG),  \n",
    "                       SCG = mean(SCG), \n",
    "                       STR = mean(STR),\n",
    "                       LPR = mean(LPR),\n",
    "                       PEG = mean(PEG)) |>\n",
    "                select(STG, SCG, STR, LPR, PEG) |>\n",
    "                head(1)\n",
    "\n",
    "# na?\n",
    "na <- data |> \n",
    "            mutate(STG = is.na(STG), SCG = is.na(SCG), \n",
    "                   STR = is.na(STR), LPR = is.na(LPR), \n",
    "                   PEG = is.na(PEG), UNS = is.na(UNS)) |>\n",
    "            select(STG, SCG, STR, LPR, PEG, UNS) |>\n",
    "            head(1)\n",
    "\n",
    "\n",
    "#UNS summary\n",
    "uns_grouped_by_level <- group_by(data, UNS) |>\n",
    "                        summarize(count = n())\n",
    "\n",
    "\n",
    "\n",
    "mean_tidy <- mean_data |>\n",
    "        pivot_longer(cols = STG:PEG,\n",
    "                    names_to = \"Feature\", values_to = \"Mean\") \n",
    "\n",
    "\n",
    "na_tidy <- na |>\n",
    "        pivot_longer(na, cols = STG:UNS,\n",
    "                    names_to = \"Feature\", values_to = \"NA\")\n"
   ]
  },
  {
   "cell_type": "code",
   "execution_count": 20,
   "id": "1cac396a-86da-4660-8ea3-67e5dd752f79",
   "metadata": {},
   "outputs": [
    {
     "data": {
      "text/html": [
       "<table class=\"dataframe\">\n",
       "<caption>A tibble: 6 × 3</caption>\n",
       "<thead>\n",
       "\t<tr><th scope=col>Feature</th><th scope=col>Mean</th><th scope=col>Is.NA</th></tr>\n",
       "\t<tr><th scope=col>&lt;chr&gt;</th><th scope=col>&lt;chr&gt;</th><th scope=col>&lt;lgl&gt;</th></tr>\n",
       "</thead>\n",
       "<tbody>\n",
       "\t<tr><td>STG</td><td>0.3711473</td><td>FALSE</td></tr>\n",
       "\t<tr><td>SCG</td><td>0.3556744</td><td>FALSE</td></tr>\n",
       "\t<tr><td>STR</td><td>0.4680039</td><td>FALSE</td></tr>\n",
       "\t<tr><td>LPR</td><td>0.4327132</td><td>FALSE</td></tr>\n",
       "\t<tr><td>PEG</td><td>0.4585388</td><td>FALSE</td></tr>\n",
       "\t<tr><td>UNS</td><td>NA       </td><td>FALSE</td></tr>\n",
       "</tbody>\n",
       "</table>\n"
      ],
      "text/latex": [
       "A tibble: 6 × 3\n",
       "\\begin{tabular}{lll}\n",
       " Feature & Mean & Is.NA\\\\\n",
       " <chr> & <chr> & <lgl>\\\\\n",
       "\\hline\n",
       "\t STG & 0.3711473 & FALSE\\\\\n",
       "\t SCG & 0.3556744 & FALSE\\\\\n",
       "\t STR & 0.4680039 & FALSE\\\\\n",
       "\t LPR & 0.4327132 & FALSE\\\\\n",
       "\t PEG & 0.4585388 & FALSE\\\\\n",
       "\t UNS & NA        & FALSE\\\\\n",
       "\\end{tabular}\n"
      ],
      "text/markdown": [
       "\n",
       "A tibble: 6 × 3\n",
       "\n",
       "| Feature &lt;chr&gt; | Mean &lt;chr&gt; | Is.NA &lt;lgl&gt; |\n",
       "|---|---|---|\n",
       "| STG | 0.3711473 | FALSE |\n",
       "| SCG | 0.3556744 | FALSE |\n",
       "| STR | 0.4680039 | FALSE |\n",
       "| LPR | 0.4327132 | FALSE |\n",
       "| PEG | 0.4585388 | FALSE |\n",
       "| UNS | NA        | FALSE |\n",
       "\n"
      ],
      "text/plain": [
       "  Feature Mean      Is.NA\n",
       "1 STG     0.3711473 FALSE\n",
       "2 SCG     0.3556744 FALSE\n",
       "3 STR     0.4680039 FALSE\n",
       "4 LPR     0.4327132 FALSE\n",
       "5 PEG     0.4585388 FALSE\n",
       "6 UNS     NA        FALSE"
      ]
     },
     "metadata": {},
     "output_type": "display_data"
    },
    {
     "data": {
      "text/html": [
       "<table class=\"dataframe\">\n",
       "<caption>A tibble: 4 × 2</caption>\n",
       "<thead>\n",
       "\t<tr><th scope=col>UNS</th><th scope=col>count</th></tr>\n",
       "\t<tr><th scope=col>&lt;chr&gt;</th><th scope=col>&lt;int&gt;</th></tr>\n",
       "</thead>\n",
       "<tbody>\n",
       "\t<tr><td>High    </td><td>63</td></tr>\n",
       "\t<tr><td>Low     </td><td>83</td></tr>\n",
       "\t<tr><td>Middle  </td><td>88</td></tr>\n",
       "\t<tr><td>very_low</td><td>24</td></tr>\n",
       "</tbody>\n",
       "</table>\n"
      ],
      "text/latex": [
       "A tibble: 4 × 2\n",
       "\\begin{tabular}{ll}\n",
       " UNS & count\\\\\n",
       " <chr> & <int>\\\\\n",
       "\\hline\n",
       "\t High     & 63\\\\\n",
       "\t Low      & 83\\\\\n",
       "\t Middle   & 88\\\\\n",
       "\t very\\_low & 24\\\\\n",
       "\\end{tabular}\n"
      ],
      "text/markdown": [
       "\n",
       "A tibble: 4 × 2\n",
       "\n",
       "| UNS &lt;chr&gt; | count &lt;int&gt; |\n",
       "|---|---|\n",
       "| High     | 63 |\n",
       "| Low      | 83 |\n",
       "| Middle   | 88 |\n",
       "| very_low | 24 |\n",
       "\n"
      ],
      "text/plain": [
       "  UNS      count\n",
       "1 High     63   \n",
       "2 Low      83   \n",
       "3 Middle   88   \n",
       "4 very_low 24   "
      ]
     },
     "metadata": {},
     "output_type": "display_data"
    }
   ],
   "source": [
    "tidy <- data.frame(\"Feature\" = c(\"STG\", \"SCG\", \"STR\", \"LPR\", \"PEG\", \"UNS\"),\n",
    "                   \"Mean\" = c(0.3711473, 0.3556744, 0.4680039, 0.4327132, 0.4585388, \"NA\"),\n",
    "                   \"Is.NA\" = c(FALSE, FALSE, FALSE, FALSE, FALSE, FALSE)) |>\n",
    "        as_tibble(tidy)\n",
    "\n",
    "tidy\n",
    "uns_grouped_by_level"
   ]
  },
  {
   "cell_type": "markdown",
   "id": "b9af9c69-b1e6-4935-b34f-b7cb1453d436",
   "metadata": {},
   "source": [
    "#### **Visualization of the data**"
   ]
  },
  {
   "cell_type": "markdown",
   "id": "d5ae7605-d095-44f5-ba2e-bb551ec6dd3f",
   "metadata": {},
   "source": [
    "The following histogram shows the distribution of the values of each variable in the datasat."
   ]
  },
  {
   "cell_type": "code",
   "execution_count": 21,
   "id": "7d46255b-27cc-4431-96c3-b4bd07989014",
   "metadata": {},
   "outputs": [
    {
     "data": {
      "image/png": "[encoded data removed]",
      "text/plain": [
       "plot without title"
      ]
     },
     "metadata": {
      "image/png": {
       "height": 420,
       "width": 420
      }
     },
     "output_type": "display_data"
    }
   ],
   "source": [
    "histogrammable_data <- data |>\n",
    "                        select(STG:PEG)\n",
    "\n",
    "histogrammable_data_pivoted <- pivot_longer(histogrammable_data, \n",
    "                                           cols= STG:PEG,\n",
    "                                           names_to = \"column_name\",\n",
    "                                           values_to =\"value\")\n",
    "\n",
    "quantitative_plot <- ggplot(histogrammable_data_pivoted, aes(x = value, fill = as_factor(column_name))) +\n",
    "        geom_histogram(bins = 10) +\n",
    "        facet_grid(rows = vars(column_name)) +\n",
    "        labs(fill = \"column name\", x = \"value\", y = \"frequency\")\n",
    "\n",
    "quantitative_plot"
   ]
  },
  {
   "cell_type": "markdown",
   "id": "2368780f-c98d-49f2-b841-89ec2fea5860",
   "metadata": {},
   "source": [
    "The following bar chart shows the distribution of frequencies across different UNS (knowledge level) "
   ]
  },
  {
   "cell_type": "code",
   "execution_count": 16,
   "id": "77f13990-c847-40f8-b4e5-263cfa0c1998",
   "metadata": {},
   "outputs": [
    {
     "data": {
      "image/png": "[encoded data removed]",
      "text/plain": [
       "plot without title"
      ]
     },
     "metadata": {
      "image/png": {
       "height": 420,
       "width": 420
      }
     },
     "output_type": "display_data"
    }
   ],
   "source": [
    "uns_bar <- ggplot(uns_grouped_by_level, aes(x=UNS, y=count)) + geom_bar(stat=\"identity\") + labs(x=\"knowledge level\", y=\"frequency\")\n",
    "uns_bar"
   ]
  },
  {
   "cell_type": "markdown",
   "id": "9d9254cd-7cd3-4450-b815-16cda23d51b2",
   "metadata": {},
   "source": [
    "## **Methods**\n",
    "\n",
    "#### **Explaination how we will conduct either our data analysis and which variables/columns we will use**\n",
    "\n",
    "First, we find the pairwise correlation of the variables and exclude the variables which are highly correlated. Then, we use the relevant and filtered columns to predict UNS by applying k-nearest neighbors. We will also try to use linear regression on STG, STR, LPR, and LPR to predict PEG and find which variable has the strongest effect on PEG.\n",
    "\n",
    "#### **Describe at least one way that you will visualize the results**\n",
    "\n",
    "Using a function ggpairs we would be able to compare the pairwise variables.\n",
    "We could make a scatterplot."
   ]
  },
  {
   "cell_type": "markdown",
   "id": "8c33113c-829b-495a-a22b-d88166cdac71",
   "metadata": {},
   "source": [
    "## **Expected outcomes and significance**\n",
    "\n",
    "#### **What do you expect to find?**\n",
    "\n",
    "We think that the columns are relevant in influencing the user knowledge and hence we predict that the accuracy of the model that predicts user knowledge level will have a relatively high accuracy level. We also expect that the repetition number for the material will have the highest influence on exam performance.\n",
    "\n",
    "#### **What impact could such findings have?**\n",
    "\n",
    "We could suggest a study habit to students based on the results. For example, if there is a high relationship between LPR and PEG, we could recommend studying more about basic subject in the field.\n",
    "\n",
    "#### **What future questions could this lead to?**\n",
    "\n",
    "How to improve the web learning system to accommodate a better growth of knowledge among the users and which metrics (repetition or study time) of which materials (goal materials, or related materials) to focus on improving.\n"
   ]
  },
  {
   "cell_type": "markdown",
   "id": "1f514f59-eb1d-4d29-8892-6e62517b3e52",
   "metadata": {},
   "source": [
    "## **Reference**\n",
    "\n",
    "Kahraman, H. T., Sagiroglu, S., & Colak, I. (2013). The development of intuitive knowledge classifier and the modeling of domain dependent data. Knowledge-Based Systems, 37, 283-295. https://doi.org/10.1016/j.knosys.2012.08.009\n"
   ]
  }
 ],
 "metadata": {
  "kernelspec": {
   "display_name": "R",
   "language": "R",
   "name": "ir"
  },
  "language_info": {
   "codemirror_mode": "r",
   "file_extension": ".r",
   "mimetype": "text/x-r-source",
   "name": "R",
   "pygments_lexer": "r",
   "version": "4.1.3"
  }
 },
 "nbformat": 4,
 "nbformat_minor": 5
}
