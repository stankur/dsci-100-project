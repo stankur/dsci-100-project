{
 "cells": [
  {
   "cell_type": "markdown",
   "id": "278699c7-0dfd-40a4-a6f4-4a9693d23595",
   "metadata": {},
   "source": [
    "## Predicting Exam Performance by Various Factors"
   ]
  },
  {
   "cell_type": "markdown",
   "id": "ec1fffad-cfb8-4a6c-b8ad-169e431012a1",
   "metadata": {
    "jp-MarkdownHeadingCollapsed": true,
    "tags": []
   },
   "source": [
    "**Introduction**\n",
    "\n",
    "* Relevant background information on the topic\n",
    "\n",
    "The dataset is obtained in the study “The development of intuitive knowledge classifier and the modeling of domain dependent data” done by H. Tolga Kahraman et. al. (2013) on a web based learning system. The system tracks dynamic data which represent the student’s educational interactions such as visited pages and elapsed time in the concept/goal pages. This dynamic data is used to generate the variables to describe the students and are used to classify users' knowledge.\n",
    "\n",
    "* The Question we will try to answer with our project\n",
    "\n",
    "Based on four factors, the degree of study time for material (STG), repetition number for material (SCG), study time for related objects like prerequisites (STR), and exam performance for related objects (LPR), the exam performance for material (PEG), predicting the knowledge level (UNS) and finding a factor that has the strongest relationship with PEG.\n",
    "\n",
    "* The dataset description that will be used to answer the question\n",
    "\n",
    "We have two csv files, a training dataset and a testing dataset. The columns in this datasets are STG (the degree of study time for material, a quantitative variable), SCG (The degree of repetition number of user for goal object materials, a quantitative variable), STR (The degree of study time of user for related objects with goal object, a quantitative variable), LPR (The exam performance of user for related objects with goal object, a quantitative variable), PEG (the exam performance for material, a quantitative variable), and UNS (The knowledge level of user, a categorical variable). The training dataset has 258 rows excluding column names and the testing dataset has 145 rows excluding column names."
   ]
  },
  {
   "cell_type": "code",
   "execution_count": 4,
   "id": "e94c295e-4084-4ba4-8722-46cff6e5ee30",
   "metadata": {},
   "outputs": [],
   "source": [
    "#Preliminary exploratory data analysis"
   ]
  },
  {
   "cell_type": "markdown",
   "id": "9d9254cd-7cd3-4450-b815-16cda23d51b2",
   "metadata": {},
   "source": [
    "**Methods**\n",
    "\n",
    "* Explaination how we will conduct either our data analysis and which variables/columns we will use\n",
    "\n",
    "First, we find the pairwise correlation of the variables and exclude the variables which are highly correlated. Then, we use the relevant and filtered columns to predict UNS by applying k-nearest neighbors. We will also try to use linear regression on STG, STR, LPR, and LPR to predict PEG and find which variable has the strongest effect on PEG.\n",
    "\n",
    "* Describe at least one way that you will visualize the results\n",
    "\n",
    "Using a function ggpairs we would be able to compare the pairwise variables.\n",
    "We could make a scatterplot.\n",
    "\n",
    "\n",
    "**Expected outcomes and significance**\n",
    "\n",
    "* What do you expect to find?\n",
    "\n",
    "We think that the columns are relevant in influencing the user knowledge and hence we predict that the accuracy of the model that predicts user knowledge level will have a relatively high accuracy level. We also expect that the repetition number for the material will have the highest influence on exam performance.\n",
    "\n",
    "* What impact could such findings have?\n",
    "\n",
    "We could suggest a study habit to students based on the results. For example, if there is a high relationship between LPR and PEG, we could recommend studying more about basic stuff in the field.\n",
    "\n",
    "* What future questions could this lead to?\n",
    "\n",
    "How to improve the web learning system to accommodate a better growth of knowledge among the users and which metrics (repetition or study time) of which materials (goal materials, or related materials) to focus on improving.\n",
    "\n",
    "\n",
    "\n"
   ]
  },
  {
   "cell_type": "code",
   "execution_count": null,
   "id": "d047f5be-324a-44c0-bce0-77241f2dd29e",
   "metadata": {},
   "outputs": [],
   "source": []
  },
  {
   "cell_type": "markdown",
   "id": "1f514f59-eb1d-4d29-8892-6e62517b3e52",
   "metadata": {},
   "source": [
    "**Reference**\n",
    "\n",
    "Kahraman, H. T., Sagiroglu, S., & Colak, I. (2013). The development of intuitive knowledge classifier and the modeling of domain dependent data. Knowledge-Based Systems, 37, 283-295. https://doi.org/10.1016/j.knosys.2012.08.009\n"
   ]
  }
 ],
 "metadata": {
  "kernelspec": {
   "display_name": "R",
   "language": "R",
   "name": "ir"
  },
  "language_info": {
   "codemirror_mode": "r",
   "file_extension": ".r",
   "mimetype": "text/x-r-source",
   "name": "R",
   "pygments_lexer": "r",
   "version": "4.1.3"
  }
 },
 "nbformat": 4,
 "nbformat_minor": 5
}
