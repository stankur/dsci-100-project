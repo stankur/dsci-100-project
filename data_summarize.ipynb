{
 "cells": [
  {
   "cell_type": "code",
   "execution_count": 27,
   "id": "8c0a5512-4377-4dae-b0f6-6b2c306d4d68",
   "metadata": {},
   "outputs": [],
   "source": [
    "library(repr)\n",
    "library(tidyverse)\n",
    "library(tidymodels)\n",
    "options(repr.matrix.max.rows = 6)"
   ]
  },
  {
   "cell_type": "code",
   "execution_count": 28,
   "id": "4c94f3a8-6dee-49fd-8589-772394fe318a",
   "metadata": {},
   "outputs": [
    {
     "name": "stderr",
     "output_type": "stream",
     "text": [
      "\u001b[1m\u001b[22mNew names:\n",
      "\u001b[36m•\u001b[39m `` -> `...7`\n",
      "\u001b[36m•\u001b[39m `` -> `...8`\n",
      "\u001b[1mRows: \u001b[22m\u001b[34m258\u001b[39m \u001b[1mColumns: \u001b[22m\u001b[34m9\u001b[39m\n",
      "\u001b[36m──\u001b[39m \u001b[1mColumn specification\u001b[22m \u001b[36m────────────────────────────────────────────────────────\u001b[39m\n",
      "\u001b[1mDelimiter:\u001b[22m \",\"\n",
      "\u001b[31mchr\u001b[39m (2): UNS, Attribute Information:\n",
      "\u001b[32mdbl\u001b[39m (5): STG, SCG, STR, LPR, PEG\n",
      "\u001b[33mlgl\u001b[39m (2): ...7, ...8\n",
      "\n",
      "\u001b[36mℹ\u001b[39m Use `spec()` to retrieve the full column specification for this data.\n",
      "\u001b[36mℹ\u001b[39m Specify the column types or set `show_col_types = FALSE` to quiet this message.\n"
     ]
    },
    {
     "data": {
      "text/html": [
       "<table class=\"dataframe\">\n",
       "<caption>A tibble: 8 × 6</caption>\n",
       "<thead>\n",
       "\t<tr><th scope=col>STG</th><th scope=col>SCG</th><th scope=col>STR</th><th scope=col>LPR</th><th scope=col>PEG</th><th scope=col>UNS</th></tr>\n",
       "\t<tr><th scope=col>&lt;dbl&gt;</th><th scope=col>&lt;dbl&gt;</th><th scope=col>&lt;dbl&gt;</th><th scope=col>&lt;dbl&gt;</th><th scope=col>&lt;dbl&gt;</th><th scope=col>&lt;chr&gt;</th></tr>\n",
       "</thead>\n",
       "<tbody>\n",
       "\t<tr><td>0.00</td><td>0.00</td><td>0.00</td><td>0.00</td><td>0.00</td><td>very_low</td></tr>\n",
       "\t<tr><td>0.08</td><td>0.08</td><td>0.10</td><td>0.24</td><td>0.90</td><td>High    </td></tr>\n",
       "\t<tr><td>0.06</td><td>0.06</td><td>0.05</td><td>0.25</td><td>0.33</td><td>Low     </td></tr>\n",
       "\t<tr><td>⋮</td><td>⋮</td><td>⋮</td><td>⋮</td><td>⋮</td><td>⋮</td></tr>\n",
       "\t<tr><td>0.09</td><td>0.15</td><td>0.40</td><td>0.10</td><td>0.66</td><td>Middle  </td></tr>\n",
       "\t<tr><td>0.10</td><td>0.10</td><td>0.43</td><td>0.29</td><td>0.56</td><td>Middle  </td></tr>\n",
       "\t<tr><td>0.15</td><td>0.02</td><td>0.34</td><td>0.40</td><td>0.01</td><td>very_low</td></tr>\n",
       "</tbody>\n",
       "</table>\n"
      ],
      "text/latex": [
       "A tibble: 8 × 6\n",
       "\\begin{tabular}{llllll}\n",
       " STG & SCG & STR & LPR & PEG & UNS\\\\\n",
       " <dbl> & <dbl> & <dbl> & <dbl> & <dbl> & <chr>\\\\\n",
       "\\hline\n",
       "\t 0.00 & 0.00 & 0.00 & 0.00 & 0.00 & very\\_low\\\\\n",
       "\t 0.08 & 0.08 & 0.10 & 0.24 & 0.90 & High    \\\\\n",
       "\t 0.06 & 0.06 & 0.05 & 0.25 & 0.33 & Low     \\\\\n",
       "\t ⋮ & ⋮ & ⋮ & ⋮ & ⋮ & ⋮\\\\\n",
       "\t 0.09 & 0.15 & 0.40 & 0.10 & 0.66 & Middle  \\\\\n",
       "\t 0.10 & 0.10 & 0.43 & 0.29 & 0.56 & Middle  \\\\\n",
       "\t 0.15 & 0.02 & 0.34 & 0.40 & 0.01 & very\\_low\\\\\n",
       "\\end{tabular}\n"
      ],
      "text/markdown": [
       "\n",
       "A tibble: 8 × 6\n",
       "\n",
       "| STG &lt;dbl&gt; | SCG &lt;dbl&gt; | STR &lt;dbl&gt; | LPR &lt;dbl&gt; | PEG &lt;dbl&gt; | UNS &lt;chr&gt; |\n",
       "|---|---|---|---|---|---|\n",
       "| 0.00 | 0.00 | 0.00 | 0.00 | 0.00 | very_low |\n",
       "| 0.08 | 0.08 | 0.10 | 0.24 | 0.90 | High     |\n",
       "| 0.06 | 0.06 | 0.05 | 0.25 | 0.33 | Low      |\n",
       "| ⋮ | ⋮ | ⋮ | ⋮ | ⋮ | ⋮ |\n",
       "| 0.09 | 0.15 | 0.40 | 0.10 | 0.66 | Middle   |\n",
       "| 0.10 | 0.10 | 0.43 | 0.29 | 0.56 | Middle   |\n",
       "| 0.15 | 0.02 | 0.34 | 0.40 | 0.01 | very_low |\n",
       "\n"
      ],
      "text/plain": [
       "  STG  SCG  STR  LPR  PEG  UNS     \n",
       "1 0.00 0.00 0.00 0.00 0.00 very_low\n",
       "2 0.08 0.08 0.10 0.24 0.90 High    \n",
       "3 0.06 0.06 0.05 0.25 0.33 Low     \n",
       "⋮ ⋮    ⋮    ⋮    ⋮    ⋮    ⋮       \n",
       "6 0.09 0.15 0.40 0.10 0.66 Middle  \n",
       "7 0.10 0.10 0.43 0.29 0.56 Middle  \n",
       "8 0.15 0.02 0.34 0.40 0.01 very_low"
      ]
     },
     "metadata": {},
     "output_type": "display_data"
    }
   ],
   "source": [
    "url <- \"https://raw.githubusercontent.com/stankur/dsci-100-project/main/Data_User_Modeling_Dataset_Hamdi%20Tolga%20KAHRAMAN.csv\"\n",
    "\n",
    "data <- read_csv(url)\n",
    "\n",
    "data <- data |> \n",
    "        select(STG:UNS) |>\n",
    "        head(8)\n",
    "\n",
    "data"
   ]
  },
  {
   "cell_type": "code",
   "execution_count": 29,
   "id": "9b4db35e-d9bd-439d-88de-7733937dda5d",
   "metadata": {},
   "outputs": [
    {
     "data": {
      "text/html": [
       "<table class=\"dataframe\">\n",
       "<caption>A tibble: 1 × 1</caption>\n",
       "<thead>\n",
       "\t<tr><th scope=col>STG_mean</th></tr>\n",
       "\t<tr><th scope=col>&lt;dbl&gt;</th></tr>\n",
       "</thead>\n",
       "<tbody>\n",
       "\t<tr><td>0.0825</td></tr>\n",
       "</tbody>\n",
       "</table>\n"
      ],
      "text/latex": [
       "A tibble: 1 × 1\n",
       "\\begin{tabular}{l}\n",
       " STG\\_mean\\\\\n",
       " <dbl>\\\\\n",
       "\\hline\n",
       "\t 0.0825\\\\\n",
       "\\end{tabular}\n"
      ],
      "text/markdown": [
       "\n",
       "A tibble: 1 × 1\n",
       "\n",
       "| STG_mean &lt;dbl&gt; |\n",
       "|---|\n",
       "| 0.0825 |\n",
       "\n"
      ],
      "text/plain": [
       "  STG_mean\n",
       "1 0.0825  "
      ]
     },
     "metadata": {},
     "output_type": "display_data"
    }
   ],
   "source": [
    "summarization <- data |>\n",
    "                mutate(STG_mean = mean(STG), ) |>\n",
    "                select(STG_mean) |>\n",
    "                slice(1)\n",
    "\n",
    "summarization"
   ]
  },
  {
   "cell_type": "code",
   "execution_count": null,
   "id": "57c62675-3461-4059-a743-bd1ef61876fa",
   "metadata": {},
   "outputs": [],
   "source": []
  },
  {
   "cell_type": "code",
   "execution_count": null,
   "id": "cc523102-bc3a-4972-8dc0-733f2ead280f",
   "metadata": {},
   "outputs": [],
   "source": []
  }
 ],
 "metadata": {
  "kernelspec": {
   "display_name": "R",
   "language": "R",
   "name": "ir"
  },
  "language_info": {
   "codemirror_mode": "r",
   "file_extension": ".r",
   "mimetype": "text/x-r-source",
   "name": "R",
   "pygments_lexer": "r",
   "version": "4.1.3"
  }
 },
 "nbformat": 4,
 "nbformat_minor": 5
}
