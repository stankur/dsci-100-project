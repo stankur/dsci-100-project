{
 "cells": [
  {
   "cell_type": "code",
   "execution_count": 9,
   "id": "423215c4-d599-4add-9ee6-12e1b3d99fcc",
   "metadata": {},
   "outputs": [],
   "source": [
    "library(repr)\n",
    "library(tidyverse)\n",
    "library(tidymodels)\n",
    "options(repr.matrix.max.rows = 6)"
   ]
  },
  {
   "cell_type": "code",
   "execution_count": 10,
   "id": "fa7931e4-e63c-42d0-8905-01e4a2d9ea25",
   "metadata": {},
   "outputs": [
    {
     "name": "stderr",
     "output_type": "stream",
     "text": [
      "\u001b[1m\u001b[22mNew names:\n",
      "\u001b[36m•\u001b[39m `` -> `...7`\n",
      "\u001b[36m•\u001b[39m `` -> `...8`\n",
      "\u001b[1mRows: \u001b[22m\u001b[34m258\u001b[39m \u001b[1mColumns: \u001b[22m\u001b[34m9\u001b[39m\n",
      "\u001b[36m──\u001b[39m \u001b[1mColumn specification\u001b[22m \u001b[36m────────────────────────────────────────────────────────\u001b[39m\n",
      "\u001b[1mDelimiter:\u001b[22m \",\"\n",
      "\u001b[31mchr\u001b[39m (2): UNS, Attribute Information:\n",
      "\u001b[32mdbl\u001b[39m (5): STG, SCG, STR, LPR, PEG\n",
      "\u001b[33mlgl\u001b[39m (2): ...7, ...8\n",
      "\n",
      "\u001b[36mℹ\u001b[39m Use `spec()` to retrieve the full column specification for this data.\n",
      "\u001b[36mℹ\u001b[39m Specify the column types or set `show_col_types = FALSE` to quiet this message.\n"
     ]
    },
    {
     "data": {
      "text/html": [
       "<table class=\"dataframe\">\n",
       "<caption>A tibble: 258 × 6</caption>\n",
       "<thead>\n",
       "\t<tr><th scope=col>STG</th><th scope=col>SCG</th><th scope=col>STR</th><th scope=col>LPR</th><th scope=col>PEG</th><th scope=col>UNS</th></tr>\n",
       "\t<tr><th scope=col>&lt;dbl&gt;</th><th scope=col>&lt;dbl&gt;</th><th scope=col>&lt;dbl&gt;</th><th scope=col>&lt;dbl&gt;</th><th scope=col>&lt;dbl&gt;</th><th scope=col>&lt;chr&gt;</th></tr>\n",
       "</thead>\n",
       "<tbody>\n",
       "\t<tr><td>0.00</td><td>0.00</td><td>0.00</td><td>0.00</td><td>0.00</td><td>very_low</td></tr>\n",
       "\t<tr><td>0.08</td><td>0.08</td><td>0.10</td><td>0.24</td><td>0.90</td><td>High    </td></tr>\n",
       "\t<tr><td>0.06</td><td>0.06</td><td>0.05</td><td>0.25</td><td>0.33</td><td>Low     </td></tr>\n",
       "\t<tr><td>⋮</td><td>⋮</td><td>⋮</td><td>⋮</td><td>⋮</td><td>⋮</td></tr>\n",
       "\t<tr><td>0.54</td><td>0.82</td><td>0.71</td><td>0.29</td><td>0.77</td><td>High  </td></tr>\n",
       "\t<tr><td>0.50</td><td>0.75</td><td>0.81</td><td>0.61</td><td>0.26</td><td>Middle</td></tr>\n",
       "\t<tr><td>0.66</td><td>0.90</td><td>0.76</td><td>0.87</td><td>0.74</td><td>High  </td></tr>\n",
       "</tbody>\n",
       "</table>\n"
      ],
      "text/latex": [
       "A tibble: 258 × 6\n",
       "\\begin{tabular}{llllll}\n",
       " STG & SCG & STR & LPR & PEG & UNS\\\\\n",
       " <dbl> & <dbl> & <dbl> & <dbl> & <dbl> & <chr>\\\\\n",
       "\\hline\n",
       "\t 0.00 & 0.00 & 0.00 & 0.00 & 0.00 & very\\_low\\\\\n",
       "\t 0.08 & 0.08 & 0.10 & 0.24 & 0.90 & High    \\\\\n",
       "\t 0.06 & 0.06 & 0.05 & 0.25 & 0.33 & Low     \\\\\n",
       "\t ⋮ & ⋮ & ⋮ & ⋮ & ⋮ & ⋮\\\\\n",
       "\t 0.54 & 0.82 & 0.71 & 0.29 & 0.77 & High  \\\\\n",
       "\t 0.50 & 0.75 & 0.81 & 0.61 & 0.26 & Middle\\\\\n",
       "\t 0.66 & 0.90 & 0.76 & 0.87 & 0.74 & High  \\\\\n",
       "\\end{tabular}\n"
      ],
      "text/markdown": [
       "\n",
       "A tibble: 258 × 6\n",
       "\n",
       "| STG &lt;dbl&gt; | SCG &lt;dbl&gt; | STR &lt;dbl&gt; | LPR &lt;dbl&gt; | PEG &lt;dbl&gt; | UNS &lt;chr&gt; |\n",
       "|---|---|---|---|---|---|\n",
       "| 0.00 | 0.00 | 0.00 | 0.00 | 0.00 | very_low |\n",
       "| 0.08 | 0.08 | 0.10 | 0.24 | 0.90 | High     |\n",
       "| 0.06 | 0.06 | 0.05 | 0.25 | 0.33 | Low      |\n",
       "| ⋮ | ⋮ | ⋮ | ⋮ | ⋮ | ⋮ |\n",
       "| 0.54 | 0.82 | 0.71 | 0.29 | 0.77 | High   |\n",
       "| 0.50 | 0.75 | 0.81 | 0.61 | 0.26 | Middle |\n",
       "| 0.66 | 0.90 | 0.76 | 0.87 | 0.74 | High   |\n",
       "\n"
      ],
      "text/plain": [
       "    STG  SCG  STR  LPR  PEG  UNS     \n",
       "1   0.00 0.00 0.00 0.00 0.00 very_low\n",
       "2   0.08 0.08 0.10 0.24 0.90 High    \n",
       "3   0.06 0.06 0.05 0.25 0.33 Low     \n",
       "⋮   ⋮    ⋮    ⋮    ⋮    ⋮    ⋮       \n",
       "256 0.54 0.82 0.71 0.29 0.77 High    \n",
       "257 0.50 0.75 0.81 0.61 0.26 Middle  \n",
       "258 0.66 0.90 0.76 0.87 0.74 High    "
      ]
     },
     "metadata": {},
     "output_type": "display_data"
    }
   ],
   "source": [
    "url <- \"https://raw.githubusercontent.com/stankur/dsci-100-project/main/Data_User_Modeling_Dataset_Hamdi%20Tolga%20KAHRAMAN.csv\"\n",
    "\n",
    "data <- read_csv(url)\n",
    "\n",
    "data <- data |> \n",
    "        select(STG:UNS)\n",
    "\n",
    "data"
   ]
  },
  {
   "cell_type": "code",
   "execution_count": 11,
   "id": "d779da4d-d057-4f4a-aea2-ee9fd372200d",
   "metadata": {},
   "outputs": [],
   "source": [
    "# mean\n",
    "mean_data <- data |>\n",
    "                mutate(STG = mean(STG),  \n",
    "                       SCG = mean(SCG), \n",
    "                       STR = mean(STR),\n",
    "                       LPR = mean(LPR),\n",
    "                       PEG = mean(PEG)) |>\n",
    "                select(STG, SCG, STR, LPR, PEG) |>\n",
    "                head(1)\n",
    "\n",
    "# na?\n",
    "na <- data |> \n",
    "            mutate(STG = is.na(STG), SCG = is.na(SCG), \n",
    "                   STR = is.na(STR), LPR = is.na(LPR), \n",
    "                   PEG = is.na(PEG), UNS = is.na(UNS)) |>\n",
    "            select(STG, SCG, STR, LPR, PEG, UNS) |>\n",
    "            head(1)\n",
    "\n",
    "#UNS summary\n",
    "UNS_summ <- matrix(c(50, 129, 122, 130), ncol = 4, byrow = TRUE)\n",
    "colnames(UNS_summ) <- c(\"VeryLow\", \"Low\", \"Medium\", \"High\") \n",
    "rownames(UNS_summ) <- \"\"\n",
    "UNS_summ <- as_tibble(UNS_summ)\n",
    "\n",
    "# mean_data\n",
    "# na\n",
    "# UNS_summ"
   ]
  },
  {
   "cell_type": "code",
   "execution_count": 12,
   "id": "caea20f1-530c-41c1-a2ff-4e920dd9ab70",
   "metadata": {},
   "outputs": [
    {
     "name": "stderr",
     "output_type": "stream",
     "text": [
      "Warning message in gsub(vec_paste0(\"^\", names_prefix), \"\", cols):\n",
      "“argument 'pattern' has length > 1 and only the first element will be used”\n"
     ]
    }
   ],
   "source": [
    "mean_tidy <- mean_data |>\n",
    "        pivot_longer(cols = STG:PEG,\n",
    "                    names_to = \"Feature\", values_to = \"Mean\") \n",
    "\n",
    "\n",
    "na_tidy <- na |>\n",
    "        pivot_longer(na, cols = STG:UNS,\n",
    "                    names_to = \"Feature\", values_to = \"NA\")\n",
    "\n",
    "# mean_tidy\n",
    "# na_tidy"
   ]
  },
  {
   "cell_type": "code",
   "execution_count": 13,
   "id": "d3226e3c-8f3f-4503-a1dc-40d7e045f8e3",
   "metadata": {},
   "outputs": [
    {
     "data": {
      "text/html": [
       "<table class=\"dataframe\">\n",
       "<caption>A tibble: 6 × 3</caption>\n",
       "<thead>\n",
       "\t<tr><th scope=col>Feature</th><th scope=col>Mean</th><th scope=col>Is.NA</th></tr>\n",
       "\t<tr><th scope=col>&lt;chr&gt;</th><th scope=col>&lt;chr&gt;</th><th scope=col>&lt;lgl&gt;</th></tr>\n",
       "</thead>\n",
       "<tbody>\n",
       "\t<tr><td>STG</td><td>0.3711473</td><td>FALSE</td></tr>\n",
       "\t<tr><td>SCG</td><td>0.3556744</td><td>FALSE</td></tr>\n",
       "\t<tr><td>STR</td><td>0.4680039</td><td>FALSE</td></tr>\n",
       "\t<tr><td>LPR</td><td>0.4327132</td><td>FALSE</td></tr>\n",
       "\t<tr><td>PEG</td><td>0.4585388</td><td>FALSE</td></tr>\n",
       "\t<tr><td>UNS</td><td>NA       </td><td>FALSE</td></tr>\n",
       "</tbody>\n",
       "</table>\n"
      ],
      "text/latex": [
       "A tibble: 6 × 3\n",
       "\\begin{tabular}{lll}\n",
       " Feature & Mean & Is.NA\\\\\n",
       " <chr> & <chr> & <lgl>\\\\\n",
       "\\hline\n",
       "\t STG & 0.3711473 & FALSE\\\\\n",
       "\t SCG & 0.3556744 & FALSE\\\\\n",
       "\t STR & 0.4680039 & FALSE\\\\\n",
       "\t LPR & 0.4327132 & FALSE\\\\\n",
       "\t PEG & 0.4585388 & FALSE\\\\\n",
       "\t UNS & NA        & FALSE\\\\\n",
       "\\end{tabular}\n"
      ],
      "text/markdown": [
       "\n",
       "A tibble: 6 × 3\n",
       "\n",
       "| Feature &lt;chr&gt; | Mean &lt;chr&gt; | Is.NA &lt;lgl&gt; |\n",
       "|---|---|---|\n",
       "| STG | 0.3711473 | FALSE |\n",
       "| SCG | 0.3556744 | FALSE |\n",
       "| STR | 0.4680039 | FALSE |\n",
       "| LPR | 0.4327132 | FALSE |\n",
       "| PEG | 0.4585388 | FALSE |\n",
       "| UNS | NA        | FALSE |\n",
       "\n"
      ],
      "text/plain": [
       "  Feature Mean      Is.NA\n",
       "1 STG     0.3711473 FALSE\n",
       "2 SCG     0.3556744 FALSE\n",
       "3 STR     0.4680039 FALSE\n",
       "4 LPR     0.4327132 FALSE\n",
       "5 PEG     0.4585388 FALSE\n",
       "6 UNS     NA        FALSE"
      ]
     },
     "metadata": {},
     "output_type": "display_data"
    },
    {
     "data": {
      "text/html": [
       "<table class=\"dataframe\">\n",
       "<caption>A tibble: 4 × 2</caption>\n",
       "<thead>\n",
       "\t<tr><th scope=col>UNS_Level</th><th scope=col>User</th></tr>\n",
       "\t<tr><th scope=col>&lt;chr&gt;</th><th scope=col>&lt;dbl&gt;</th></tr>\n",
       "</thead>\n",
       "<tbody>\n",
       "\t<tr><td>VeryLow</td><td> 50</td></tr>\n",
       "\t<tr><td>Low    </td><td>129</td></tr>\n",
       "\t<tr><td>Medium </td><td>122</td></tr>\n",
       "\t<tr><td>High   </td><td>130</td></tr>\n",
       "</tbody>\n",
       "</table>\n"
      ],
      "text/latex": [
       "A tibble: 4 × 2\n",
       "\\begin{tabular}{ll}\n",
       " UNS\\_Level & User\\\\\n",
       " <chr> & <dbl>\\\\\n",
       "\\hline\n",
       "\t VeryLow &  50\\\\\n",
       "\t Low     & 129\\\\\n",
       "\t Medium  & 122\\\\\n",
       "\t High    & 130\\\\\n",
       "\\end{tabular}\n"
      ],
      "text/markdown": [
       "\n",
       "A tibble: 4 × 2\n",
       "\n",
       "| UNS_Level &lt;chr&gt; | User &lt;dbl&gt; |\n",
       "|---|---|\n",
       "| VeryLow |  50 |\n",
       "| Low     | 129 |\n",
       "| Medium  | 122 |\n",
       "| High    | 130 |\n",
       "\n"
      ],
      "text/plain": [
       "  UNS_Level User\n",
       "1 VeryLow    50 \n",
       "2 Low       129 \n",
       "3 Medium    122 \n",
       "4 High      130 "
      ]
     },
     "metadata": {},
     "output_type": "display_data"
    }
   ],
   "source": [
    "tidy <- data.frame(\"Feature\" = c(\"STG\", \"SCG\", \"STR\", \"LPR\", \"PEG\", \"UNS\"),\n",
    "                   \"Mean\" = c(0.3711473, 0.3556744, 0.4680039, 0.4327132, 0.4585388, \"NA\"),\n",
    "                   \"Is.NA\" = c(FALSE, FALSE, FALSE, FALSE, FALSE, FALSE)) |>\n",
    "        as_tibble(tidy)\n",
    "\n",
    "\n",
    "UNS_tidy <- UNS_summ |>\n",
    "        pivot_longer(cols = VeryLow:High,\n",
    "                    names_to = \"UNS_Level\", values_to = \"User\") \n",
    "\n",
    "\n",
    "tidy\n",
    "UNS_tidy"
   ]
  }
 ],
 "metadata": {
  "kernelspec": {
   "display_name": "R",
   "language": "R",
   "name": "ir"
  },
  "language_info": {
   "codemirror_mode": "r",
   "file_extension": ".r",
   "mimetype": "text/x-r-source",
   "name": "R",
   "pygments_lexer": "r",
   "version": "4.1.3"
  }
 },
 "nbformat": 4,
 "nbformat_minor": 5
}
